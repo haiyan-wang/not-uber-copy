{
 "cells": [
  {
   "cell_type": "code",
   "execution_count": null,
   "metadata": {},
   "outputs": [],
   "source": [
    "import json\n",
    "import csv\n",
    "from collections import deque\n",
    "from queue import PriorityQueue\n",
    "import datetime as dt\n",
    "import heapq"
   ]
  },
  {
   "cell_type": "code",
   "execution_count": null,
   "metadata": {},
   "outputs": [],
   "source": [
    "with open('adjacency.json', 'r') as g:\n",
    "    adjList = json.load(g)\n",
    "\n",
    "with open('node_data.json', 'r') as n:\n",
    "    nodeList = json.load(n)"
   ]
  },
  {
   "cell_type": "code",
   "execution_count": null,
   "metadata": {},
   "outputs": [],
   "source": [
    "class Edge:\n",
    "\n",
    "    def __init__(self, start_node_id: int = None, end_node_id: int = None, day_type: str = None, hour: int = None, length: int = None, max_speed: float = None, time: float = None) -> None:\n",
    "        self.start_node_id = start_node_id\n",
    "        self.end_node_id = end_node_id\n",
    "        self.day_type = day_type\n",
    "        self.hour = hour\n",
    "        self.length = length\n",
    "        self.max_speed = max_speed\n",
    "        self.time = time"
   ]
  },
  {
   "cell_type": "code",
   "execution_count": null,
   "metadata": {},
   "outputs": [],
   "source": [
    "class Node:\n",
    "\n",
    "    def __init__(self, id: int = None, lat: float = None, lon: float = None) -> None:\n",
    "        self.id = id\n",
    "        self.lat = lat\n",
    "        self.lon = lon\n",
    "        self.neighbors = {} # {end_node_id: Edge}\n",
    "\n",
    "    def dijkstra(self, end_node):\n",
    "        distances = {}\n",
    "        distances[self.id] = 0\n",
    "        pq = [(0, self)]\n",
    "        while pq:\n",
    "            (dist, current_node) = heapq.heappop(pq)\n",
    "            if dist > distances[current_node]:\n",
    "                continue\n",
    "            for edge_id, edge in current_node.neighbors.items():\n",
    "                neighbor = nodes[edge.end_node_id]\n",
    "                distance = dist + edge.time\n",
    "                if distance < distances[neighbor.id]:\n",
    "                    distances[neighbor.id] = distance\n",
    "                    heapq.heappush(pq, (distance, neighbor))\n",
    "        return distances\n",
    "\n"
   ]
  },
  {
   "cell_type": "code",
   "execution_count": null,
   "metadata": {},
   "outputs": [],
   "source": [
    "class Driver:\n",
    "\n",
    "    def __init__(self, timestamp: str = None, lat: float = None, lon: float = None) -> None:\n",
    "        self.time = timestamp # convert to dt.datetime obj\n",
    "        self.lat = lat\n",
    "        self.lon = lon"
   ]
  },
  {
   "cell_type": "code",
   "execution_count": null,
   "metadata": {},
   "outputs": [],
   "source": [
    "class Passenger:\n",
    "\n",
    "    def __init__(self, timestamp: str = None, lat: float = None, lon: float = None) -> None:\n",
    "        self.time = timestamp # convert to dt.datetime obj\n",
    "        self.start_lat = lat\n",
    "        self.start_lon = lon"
   ]
  },
  {
   "cell_type": "code",
   "execution_count": null,
   "metadata": {},
   "outputs": [],
   "source": [
    "class Ride:\n",
    "\n",
    "    def __init__(self, start_time: str = None, end_time: str = None, driver: int = None, passenger: int = None, start_lat: float = None, start_lon: float = None, end_lat: float = None, end_lon: float = None) -> None:\n",
    "        self.start_time = start_time # convert to dt.datetime obj\n",
    "        self.end_time = end_time # convert to dt.datetime obj\n",
    "        self.driver = driver\n",
    "        self.passenger = passenger\n",
    "        self.start_lat = start_lat\n",
    "        self.start_lon = start_lon\n",
    "        self.end_lat = end_lat\n",
    "        self.end_lon = end_lon\n",
    "\n",
    "    def __eq__(self, other):\n",
    "        pass\n",
    "\n",
    "    # Other comparables"
   ]
  },
  {
   "cell_type": "code",
   "execution_count": null,
   "metadata": {},
   "outputs": [],
   "source": [
    "nodes = {}\n",
    "for node_id in nodeList:\n",
    "    nodes[int(node_id)] = Node(id = node_id, lat = nodeList[node_id]['lat'], lon = nodeList[node_id]['lon'])\n",
    "\n",
    "for start_node in adjList:\n",
    "    node = nodes[int(start_node)]\n",
    "    for end_node in adjList[start_node]:\n",
    "        node.neighbors[int(end_node)] = Edge(start_node_id = start_node, end_node_id = end_node, **adjList[start_node][end_node])"
   ]
  },
  {
   "cell_type": "code",
   "execution_count": null,
   "metadata": {},
   "outputs": [],
   "source": [
    "with open('drivers.csv', 'r') as d:\n",
    "    drivers = csv.reader(d)\n",
    "\n",
    "with open('passengers.csv', 'r') as p:\n",
    "    passengers = csv.reader(p)"
   ]
  }
 ],
 "metadata": {
  "language_info": {
   "name": "python"
  }
 },
 "nbformat": 4,
 "nbformat_minor": 2
}
