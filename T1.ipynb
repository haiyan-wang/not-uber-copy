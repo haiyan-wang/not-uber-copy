{
 "cells": [
  {
   "cell_type": "code",
   "execution_count": 44,
   "metadata": {},
   "outputs": [],
   "source": [
    "import json\n",
    "import csv\n",
    "from collections import deque\n",
    "from queue import PriorityQueue\n",
    "import datetime as dt"
   ]
  },
  {
   "cell_type": "code",
   "execution_count": 39,
   "metadata": {},
   "outputs": [],
   "source": [
    "with open('adjacency.json', 'r') as g:\n",
    "    adjList = json.load(g)\n",
    "\n",
    "with open('node_data.json', 'r') as n:\n",
    "    nodeList = json.load(n)"
   ]
  },
  {
   "cell_type": "code",
   "execution_count": 35,
   "metadata": {},
   "outputs": [],
   "source": [
    "class Edge:\n",
    "\n",
    "    def __init__(self, start_node_id: int = None, end_node_id: int = None, day_type: str = None, hour: int = None, length: int = None, max_speed: float = None, time: float = None) -> None:\n",
    "        self.start_node_id = start_node_id\n",
    "        self.end_node_id = end_node_id\n",
    "        self.day_type = day_type\n",
    "        self.hour = hour\n",
    "        self.length = length\n",
    "        self.max_speed = max_speed\n",
    "        self.time = time"
   ]
  },
  {
   "cell_type": "code",
   "execution_count": 36,
   "metadata": {},
   "outputs": [],
   "source": [
    "class Node:\n",
    "\n",
    "    def __init__(self, id: int = None, lat: float = None, lon: float = None) -> None:\n",
    "        self.id = id\n",
    "        self.lat = lat\n",
    "        self.lon = lon\n",
    "        self.neighbors = {} # {end_node_id: Edge}\n",
    "        self.drivers = []\n",
    "\n",
    "    def shortest_path(self, end_node):\n",
    "        pass"
   ]
  },
  {
   "cell_type": "code",
   "execution_count": 45,
   "metadata": {},
   "outputs": [],
   "source": [
    "class Driver:\n",
    "\n",
    "    def __init__(self, timestamp: str = None, lat: float = None, lon: float = None) -> None:\n",
    "        self.time = timestamp # convert to dt.datetime obj\n",
    "        self.lat = lat\n",
    "        self.lon = lon"
   ]
  },
  {
   "cell_type": "code",
   "execution_count": 53,
   "metadata": {},
   "outputs": [],
   "source": [
    "class Passenger:\n",
    "\n",
    "    def __init__(self, timestamp: str = None, s_lat: float = None, s_lon: float = None, e_lat: float = None, e_lon: float = None) -> None:\n",
    "        self.time = timestamp # convert to dt.datetime obj\n",
    "        self.start_lat = s_lat\n",
    "        self.start_lon = s_lon\n",
    "        self.end_lat = e_lat\n",
    "        self.end_lon = e_lon"
   ]
  },
  {
   "cell_type": "code",
   "execution_count": 54,
   "metadata": {},
   "outputs": [],
   "source": [
    "class Ride:\n",
    "\n",
    "    def __init__(self, start_time: str = None, end_time: str = None, driver: int = None, passenger: int = None, start_lat: float = None, start_lon: float = None, end_lat: float = None, end_lon: float = None) -> None:\n",
    "        self.start_time = start_time # convert to dt.datetime obj\n",
    "        self.end_time = end_time # convert to dt.datetime obj\n",
    "        self.driver = driver\n",
    "        self.passenger = passenger\n",
    "        self.start_lat = start_lat\n",
    "        self.start_lon = start_lon\n",
    "        self.end_lat = end_lat\n",
    "        self.end_lon = end_lon\n",
    "\n",
    "    def __eq__(self, other):\n",
    "        pass\n",
    "\n",
    "    # Other comparables"
   ]
  },
  {
   "cell_type": "code",
   "execution_count": 55,
   "metadata": {},
   "outputs": [],
   "source": [
    "nodes = {}\n",
    "for node_id in nodeList:\n",
    "    nodes[int(node_id)] = Node(id = node_id, lat = nodeList[node_id]['lat'], lon = nodeList[node_id]['lon'])\n",
    "\n",
    "for start_node in adjList:\n",
    "    node = nodes[int(start_node)]\n",
    "    for end_node in adjList[start_node]:\n",
    "        node.neighbors[int(end_node)] = Edge(start_node_id = start_node, end_node_id = end_node, **adjList[start_node][end_node])"
   ]
  },
  {
   "cell_type": "code",
   "execution_count": 56,
   "metadata": {},
   "outputs": [],
   "source": [
    "drivers = []\n",
    "with open('drivers.csv', 'r') as d:\n",
    "    d_reader = csv.reader(d)\n",
    "    for d in d_reader:\n",
    "        drivers.append(Driver(*d))\n",
    "\n",
    "passengers = []\n",
    "with open('passengers.csv', 'r') as p:\n",
    "    p_reader = csv.reader(p)\n",
    "    for p in p_reader:\n",
    "        passengers.append(Passenger(*p))"
   ]
  }
 ],
 "metadata": {
  "kernelspec": {
   "display_name": "Python 3 (ipykernel)",
   "language": "python",
   "name": "python3"
  },
  "language_info": {
   "codemirror_mode": {
    "name": "ipython",
    "version": 3
   },
   "file_extension": ".py",
   "mimetype": "text/x-python",
   "name": "python",
   "nbconvert_exporter": "python",
   "pygments_lexer": "ipython3",
   "version": "3.9.16"
  }
 },
 "nbformat": 4,
 "nbformat_minor": 2
}
