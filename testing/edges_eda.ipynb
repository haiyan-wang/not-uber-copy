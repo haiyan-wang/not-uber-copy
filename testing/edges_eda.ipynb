{
 "cells": [
  {
   "cell_type": "code",
   "execution_count": 10,
   "metadata": {},
   "outputs": [
    {
     "data": {
      "text/plain": [
       "'/Users/haiyanwang/Documents/Duke/Sophomore Year/Classes/Semester 1/CS330/NotUber'"
      ]
     },
     "execution_count": 10,
     "metadata": {},
     "output_type": "execute_result"
    }
   ],
   "source": [
    "import pandas as pd\n",
    "import csv\n",
    "import os\n"
   ]
  },
  {
   "cell_type": "code",
   "execution_count": 17,
   "metadata": {},
   "outputs": [],
   "source": [
    "passengers = pd.read_csv(os.path.dirname(os.getcwd()) + '/data/passengers.csv')\n",
    "drivers = pd.read_csv(os.path.dirname(os.getcwd()) + '/data/drivers.csv')"
   ]
  },
  {
   "cell_type": "code",
   "execution_count": 18,
   "metadata": {},
   "outputs": [
    {
     "data": {
      "text/html": [
       "<div>\n",
       "<style scoped>\n",
       "    .dataframe tbody tr th:only-of-type {\n",
       "        vertical-align: middle;\n",
       "    }\n",
       "\n",
       "    .dataframe tbody tr th {\n",
       "        vertical-align: top;\n",
       "    }\n",
       "\n",
       "    .dataframe thead th {\n",
       "        text-align: right;\n",
       "    }\n",
       "</style>\n",
       "<table border=\"1\" class=\"dataframe\">\n",
       "  <thead>\n",
       "    <tr style=\"text-align: right;\">\n",
       "      <th></th>\n",
       "      <th>Date/Time</th>\n",
       "      <th>Source Lat</th>\n",
       "      <th>Source Lon</th>\n",
       "    </tr>\n",
       "  </thead>\n",
       "  <tbody>\n",
       "    <tr>\n",
       "      <th>0</th>\n",
       "      <td>04/25/2014 00:14:00</td>\n",
       "      <td>40.6670</td>\n",
       "      <td>-73.8713</td>\n",
       "    </tr>\n",
       "    <tr>\n",
       "      <th>1</th>\n",
       "      <td>04/25/2014 00:21:00</td>\n",
       "      <td>40.6482</td>\n",
       "      <td>-73.7831</td>\n",
       "    </tr>\n",
       "    <tr>\n",
       "      <th>2</th>\n",
       "      <td>04/25/2014 00:31:00</td>\n",
       "      <td>40.7648</td>\n",
       "      <td>-73.9960</td>\n",
       "    </tr>\n",
       "    <tr>\n",
       "      <th>3</th>\n",
       "      <td>04/25/2014 00:37:00</td>\n",
       "      <td>40.7400</td>\n",
       "      <td>-73.9990</td>\n",
       "    </tr>\n",
       "    <tr>\n",
       "      <th>4</th>\n",
       "      <td>04/25/2014 00:44:00</td>\n",
       "      <td>40.7396</td>\n",
       "      <td>-74.0054</td>\n",
       "    </tr>\n",
       "    <tr>\n",
       "      <th>...</th>\n",
       "      <td>...</td>\n",
       "      <td>...</td>\n",
       "      <td>...</td>\n",
       "    </tr>\n",
       "    <tr>\n",
       "      <th>494</th>\n",
       "      <td>04/26/2014 23:30:00</td>\n",
       "      <td>40.6961</td>\n",
       "      <td>-73.9773</td>\n",
       "    </tr>\n",
       "    <tr>\n",
       "      <th>495</th>\n",
       "      <td>04/26/2014 23:33:00</td>\n",
       "      <td>40.6358</td>\n",
       "      <td>-73.5823</td>\n",
       "    </tr>\n",
       "    <tr>\n",
       "      <th>496</th>\n",
       "      <td>04/26/2014 23:46:00</td>\n",
       "      <td>40.7530</td>\n",
       "      <td>-73.6993</td>\n",
       "    </tr>\n",
       "    <tr>\n",
       "      <th>497</th>\n",
       "      <td>04/26/2014 23:58:00</td>\n",
       "      <td>40.7369</td>\n",
       "      <td>-73.9887</td>\n",
       "    </tr>\n",
       "    <tr>\n",
       "      <th>498</th>\n",
       "      <td>04/26/2014 23:59:00</td>\n",
       "      <td>40.7451</td>\n",
       "      <td>-74.0343</td>\n",
       "    </tr>\n",
       "  </tbody>\n",
       "</table>\n",
       "<p>499 rows × 3 columns</p>\n",
       "</div>"
      ],
      "text/plain": [
       "               Date/Time  Source Lat  Source Lon\n",
       "0    04/25/2014 00:14:00     40.6670    -73.8713\n",
       "1    04/25/2014 00:21:00     40.6482    -73.7831\n",
       "2    04/25/2014 00:31:00     40.7648    -73.9960\n",
       "3    04/25/2014 00:37:00     40.7400    -73.9990\n",
       "4    04/25/2014 00:44:00     40.7396    -74.0054\n",
       "..                   ...         ...         ...\n",
       "494  04/26/2014 23:30:00     40.6961    -73.9773\n",
       "495  04/26/2014 23:33:00     40.6358    -73.5823\n",
       "496  04/26/2014 23:46:00     40.7530    -73.6993\n",
       "497  04/26/2014 23:58:00     40.7369    -73.9887\n",
       "498  04/26/2014 23:59:00     40.7451    -74.0343\n",
       "\n",
       "[499 rows x 3 columns]"
      ]
     },
     "execution_count": 18,
     "metadata": {},
     "output_type": "execute_result"
    }
   ],
   "source": [
    "drivers"
   ]
  },
  {
   "cell_type": "code",
   "execution_count": null,
   "metadata": {},
   "outputs": [],
   "source": []
  }
 ],
 "metadata": {
  "kernelspec": {
   "display_name": "Python 3 (ipykernel)",
   "language": "python",
   "name": "python3"
  }
 },
 "nbformat": 4,
 "nbformat_minor": 2
}
